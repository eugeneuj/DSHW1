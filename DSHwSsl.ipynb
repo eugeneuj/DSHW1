{
 "cells": [
  {
   "cell_type": "code",
   "execution_count": 1,
   "id": "836e33e5",
   "metadata": {},
   "outputs": [],
   "source": []
  },
  {
   "cell_type": "markdown",
   "id": "6121c2df",
   "metadata": {},
   "source": [
    "# 202102614 GBT학과 이유진"
   ]
  },
  {
   "cell_type": "code",
   "execution_count": 12,
   "id": "fd487ac1",
   "metadata": {},
   "outputs": [],
   "source": [
    "# Node 클래스 정의\n",
    "class Node:\n",
    "    def __init__(self, data):\n",
    "        self.data = data\n",
    "        self.next = None\n",
    "\n",
    "\n",
    "# LinkedList 클래스 정의\n",
    "class LinkedList:\n",
    "\n",
    "\t# 초기화 메소드\n",
    "    def __init__(self):\n",
    "        dummy = Node(\"dummy\")\n",
    "        self.head = dummy\n",
    "        self.tail = dummy\n",
    "\n",
    "        self.current = None\n",
    "        self.before = None\n",
    "\n",
    "        self.num_of_data = 0\n",
    "\n",
    "\t# append 메소드 (insert - 맨 뒤에 노드 추가, tail과 node의 next, 데이터 개수 변경)\n",
    "    def append(self, data):\n",
    "        new_node = Node(data)\n",
    "        self.tail.next = new_node\n",
    "        self.tail = new_node\n",
    "\n",
    "        self.num_of_data += 1\n",
    "\n",
    "\t# delete 메소드 (delete - current 노드 삭제, 인접 노드의 current, next 변경, 데이터 개수 변경)\n",
    "    def delete(self):\n",
    "        pop_data = self.current.data\n",
    "\n",
    "        if self.current is self.tail:\n",
    "            self.tail = self.before\n",
    "\n",
    "\t\t\t# 중요 : current가 next가 아닌 before로 변경된다.\n",
    "        self.before.next = self.current.next\n",
    "        self.current = self.before \n",
    "\n",
    "        self.num_of_data -= 1\n",
    "\n",
    "        return pop_data\n",
    "\n",
    "\t# first 메소드 (search1 - 맨 앞의 노드 검색, before, current 변경)\n",
    "    def first(self):\n",
    "        # 데이터가 없는 경우 첫번째 노드도 없기 때문에 None 리턴\n",
    "        if self.num_of_data == 0: \n",
    "            return None\n",
    "\n",
    "        self.before = self.head\n",
    "        self.current = self.head.next\n",
    "\n",
    "        return self.current.data\n",
    "\n",
    "\t# next 메소드 (search2 - current 노드의 다음 노드 검색, 이전에 first 메소드가 한번은 실행되어야 함)\n",
    "    def next(self):\n",
    "        if self.current.next == None:\n",
    "            return None\n",
    "\n",
    "        self.before = self.current\n",
    "        self.current = self.current.next\n",
    "\n",
    "        return self.current.data\n",
    "\n",
    "\t# size 메소드\n",
    "    def size(self):\n",
    "        return self.num_of_data \n",
    "\n",
    "    def traverse_all(self):\n",
    "        if self.num_of_data == 0:\n",
    "            print(\"None\")\n",
    "            return\n",
    "\n",
    "        self.before=self.head\n",
    "        self.current=self.head.next\n",
    "        print(\"head->\", end=' ')\n",
    "        while self.current != None:\n",
    "            print(\"(%d)->\"%self.current.data, end='')\n",
    "            self.before=self.current\n",
    "            self.current=self.current.next\n",
    "        print(\"null\")\n",
    "\n",
    "\n",
    "    \n",
    "    def insert_at(self,position,new_data):\n",
    "        return\n",
    "    \n",
    "    def remove(self,key):\n",
    "        return\n"
   ]
  },
  {
   "cell_type": "code",
   "execution_count": 13,
   "id": "fa4659c2",
   "metadata": {},
   "outputs": [
    {
     "name": "stdout",
     "output_type": "stream",
     "text": [
      "None\n",
      "head-> (2)->(5)->(7)->(0)->null\n"
     ]
    }
   ],
   "source": [
    "A=LinkedList()\n",
    "A.traverse_all()\n",
    "A.append(2)\n",
    "A.append(5)\n",
    "A.append(7)\n",
    "A.append(0)\n",
    "A.traverse_all()\n"
   ]
  },
  {
   "cell_type": "code",
   "execution_count": null,
   "id": "6803a33c",
   "metadata": {},
   "outputs": [],
   "source": []
  }
 ],
 "metadata": {
  "kernelspec": {
   "display_name": "Python 3 (ipykernel)",
   "language": "python",
   "name": "python3"
  },
  "language_info": {
   "codemirror_mode": {
    "name": "ipython",
    "version": 3
   },
   "file_extension": ".py",
   "mimetype": "text/x-python",
   "name": "python",
   "nbconvert_exporter": "python",
   "pygments_lexer": "ipython3",
   "version": "3.10.9"
  }
 },
 "nbformat": 4,
 "nbformat_minor": 5
}
