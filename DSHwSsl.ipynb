{
 "cells": [
  {
   "cell_type": "markdown",
   "id": "bec66803",
   "metadata": {},
   "source": [
    "# 202102614 GBT학과 이유진"
   ]
  },
  {
   "cell_type": "code",
   "execution_count": 68,
   "id": "f1628341",
   "metadata": {},
   "outputs": [],
   "source": [
    "'''\n",
    "# Node 클래스 정의\n",
    "class Node:\n",
    "    def __init__(self, data):\n",
    "        self.data = data\n",
    "        self.next = None\n",
    "\n",
    "\n",
    "# LinkedList 클래스 정의\n",
    "class LinkedList:\n",
    "\n",
    "\t# 초기화 메소드\n",
    "    def __init__(self):\n",
    "        dummy = Node(\"dummy\")\n",
    "        self.head = dummy\n",
    "        self.tail = dummy\n",
    "\n",
    "        self.current = None\n",
    "        self.before = None\n",
    "\n",
    "        self.num_of_data = 0\n",
    "\n",
    "\t# append 메소드 (insert - 맨 뒤에 노드 추가, tail과 node의 next, 데이터 개수 변경)\n",
    "    def append(self, data):\n",
    "        new_node = Node(data)\n",
    "        self.tail.next = new_node\n",
    "        self.tail = new_node\n",
    "\n",
    "        self.num_of_data += 1\n",
    "\n",
    "\t# delete 메소드 (delete - current 노드 삭제, 인접 노드의 current, next 변경, 데이터 개수 변경)\n",
    "    def delete(self):\n",
    "        pop_data = self.current.data\n",
    "\n",
    "        if self.current is self.tail:\n",
    "            self.tail = self.before\n",
    "\n",
    "\t\t\t# 중요 : current가 next가 아닌 before로 변경된다.\n",
    "        self.before.next = self.current.next\n",
    "        self.current = self.before \n",
    "\n",
    "        self.num_of_data -= 1\n",
    "\n",
    "        return pop_data\n",
    "\n",
    "\t# first 메소드 (search1 - 맨 앞의 노드 검색, before, current 변경)\n",
    "    def first(self):\n",
    "        # 데이터가 없는 경우 첫번째 노드도 없기 때문에 None 리턴\n",
    "        if self.num_of_data == 0: \n",
    "            return None\n",
    "\n",
    "        self.before = self.head\n",
    "        self.current = self.head.next\n",
    "\n",
    "        return self.current.data\n",
    "\n",
    "\t# next 메소드 (search2 - current 노드의 다음 노드 검색, 이전에 first 메소드가 한번은 실행되어야 함)\n",
    "    def next(self):\n",
    "        if self.current.next == None:\n",
    "            return None\n",
    "\n",
    "        self.before = self.current\n",
    "        self.current = self.current.next\n",
    "\n",
    "        return self.current.data\n",
    "\n",
    "\t# size 메소드\n",
    "    def size(self):\n",
    "        return self.num_of_data \n",
    "\n",
    "    def traverse_all(self):\n",
    "        if self.num_of_data == 0:\n",
    "            print(\"None\")\n",
    "            return\n",
    "\n",
    "        self.before=self.head\n",
    "        self.current=self.head.next\n",
    "        print(\"head->\", end=' ')\n",
    "        while self.current != None:\n",
    "            print(\"(%d)->\"%self.current.data, end='')\n",
    "            self.before=self.current\n",
    "            self.current=self.current.next\n",
    "        print(\"null\")\n",
    "\n",
    "    def insert_at(self,position,new_data):\n",
    "        new_node=Node(new_data)\n",
    "        self.current=self.head\n",
    "        if position<=0:\n",
    "            print(\"error\")\n",
    "            return None\n",
    "        \n",
    "        while position!=0:\n",
    "            self.before=self.current\n",
    "            self.current=self.current.next\n",
    "            position=position-1\n",
    "            if self.current==None:\n",
    "                break\n",
    "        self.before.next=new_node\n",
    "        \n",
    "        if self.current==None:\n",
    "            self.tail=new_node\n",
    "        new_node.next=self.current\n",
    "        \n",
    "        self.num_of_data+=1\n",
    "    \n",
    "    \n",
    "    def remove(self,key):\n",
    "        self.current=self.head.next\n",
    "        self.before=self.head #이거 추가함\n",
    "        idx=1\n",
    "        state=False\n",
    "        while self.current!=None:\n",
    "            if self.current.data==key:\n",
    "                self.num_of_data-=1\n",
    "                state=True\n",
    "                print(\"%d번째 원소(%d) 삭제\"%(idx,key)) \n",
    "                self.delete()\n",
    "                 #여기 이상함..#2배로 -됨..왜지...\n",
    "            \n",
    "            self.before=self.current\n",
    "            self.current=self.current.next\n",
    "            idx+=1\n",
    "            \n",
    "        if not state:\n",
    "            print('해당하는 원소가 없습니다.')\n",
    "'''"
   ]
  },
  {
   "cell_type": "code",
   "execution_count": 72,
   "id": "1a60babb",
   "metadata": {},
   "outputs": [],
   "source": [
    "from myssl import *"
   ]
  },
  {
   "cell_type": "markdown",
   "id": "5e4ad2d3",
   "metadata": {},
   "source": [
    "### traverse_all test"
   ]
  },
  {
   "cell_type": "code",
   "execution_count": 73,
   "id": "efbc8054",
   "metadata": {},
   "outputs": [
    {
     "name": "stdout",
     "output_type": "stream",
     "text": [
      "None\n",
      "head-> (2)->(5)->(7)->(0)->null\n"
     ]
    }
   ],
   "source": [
    "A=LinkedList()\n",
    "A.traverse_all()\n",
    "A.append(2)\n",
    "A.append(5)\n",
    "A.append(7)\n",
    "A.append(0)\n",
    "A.traverse_all()"
   ]
  },
  {
   "cell_type": "markdown",
   "id": "eebaede2",
   "metadata": {},
   "source": [
    "#### traverse_all 코드설명\n",
    "\n",
    "- current 를 head의 next로 설정하고 current가 None이 될때 까지  \n",
    "current=current.next 해가면서 current의 data 값을 출력\n",
    "\n"
   ]
  },
  {
   "cell_type": "markdown",
   "id": "c0299b5c",
   "metadata": {},
   "source": [
    "#### 테스트 설명\n",
    "* LinkedList객체 A를 만들어 테스트\n",
    "* 아무런 원소가 들어있지 않을 때 traverse_all 실행하면 None 출력\n",
    "* A에 2,3,7,0 을 순서대로 집어 넣고 traverse_all을 실행하면\n",
    "head-> (2)->(5)->(7)->(0)->null 출력되어 정상적으로 작동한다\n"
   ]
  },
  {
   "cell_type": "markdown",
   "id": "d945b01c",
   "metadata": {},
   "source": [
    "### insert_at test"
   ]
  },
  {
   "cell_type": "code",
   "execution_count": 74,
   "id": "cab745ca",
   "metadata": {},
   "outputs": [
    {
     "name": "stdout",
     "output_type": "stream",
     "text": [
      "head-> (1)->null\n",
      "error\n",
      "head-> (1)->(30)->(8)->(99)->null\n",
      "head-> (1)->(30)->(8)->(99)->(1)->null\n",
      "taildata: 1\n",
      "head-> (1)->(30)->(8)->(1)->(99)->(1)->null\n",
      "head-> (1)->(30)->(8)->(1)->(99)->(1)->(256)->null\n",
      "numofdata: 7\n",
      "taildata: 256\n"
     ]
    }
   ],
   "source": [
    "A=LinkedList()\n",
    "A.insert_at(1,1)\n",
    "A.traverse_all()\n",
    "\n",
    "A.append(30)\n",
    "A.append(8)\n",
    "A.append(99)\n",
    "\n",
    "A.insert_at(0,100) #0이하 위치에 넣으면 error\n",
    "A.insert_at(11,1) #링크드리스크 크기보다 큰 위치 넣으면 맨 뒤에 추가\n",
    "A.traverse_all()\n",
    "print(\"taildata:\",A.tail.data) #tail위치 설정됐는지 확인\n",
    "A.insert_at(4,1)\n",
    "A.traverse_all()\n",
    "A.insert_at(8,256)\n",
    "A.traverse_all()\n",
    "print(\"numofdata:\",A.num_of_data)\n",
    "print(\"taildata:\",A.tail.data) #tail위치 설정됐는지 확인\n",
    "\n"
   ]
  },
  {
   "cell_type": "markdown",
   "id": "5a60e0ca",
   "metadata": {},
   "source": [
    "#### insert_at 코드설명\n",
    "- 삽입하고 싶은 data와 위치를 받는다\n",
    "- 받은 data로 Node를 만들고 해당 위치를 찾는다\n",
    "- 입력받은 위치가 0보다 작거나 같으면 error를 출력하고 함수 종료한다.\n",
    "- 위치-1을 해가면서 current를 1번(head.next)부터 next를 하면 위치가 0이 될 때 current가 원하는 위치에 도달한다\n",
    "- 해당위치의 노드(current)의 before 노드를 새로만든 node와 연결하고 새노드는 current와 연결하여 삽입한다.\n",
    "- 이때 입력받은 위치가 배열의 크기보다 크면 맨뒤에 넣을 수 있게  \n",
    "current가 None이 되면(before노드가 마지막 노드) break하여 동일하게 before과 current와 연결하고 tail로 지정해준다.\n"
   ]
  },
  {
   "cell_type": "markdown",
   "id": "d6c6713b",
   "metadata": {},
   "source": [
    "#### 테스트 설명 (insert_at 한 후 traverse_all로 확인)\n",
    "\n",
    "* 객체 A를 만들어 테스트\n",
    "\n",
    "* 비어있는 링크드리스트에 insert_at이 잘 작동하는지 확인\n",
    "\n",
    "* 0 이하의 위치에 넣으면 error문이 뜨는지 확인 ( A.insert_at(0,100) )\n",
    "* 링크드리스트 크기보다 큰 위치에 넣으면 가장 뒤에 추가 되는지 확인  ( A.insert_at(11,1) )\n",
    "* 맨 뒤에 추가 될때 tail에도 잘 적용 되는지 확인\n",
    "* num_of_data값에도 잘 적용 되는지 확인"
   ]
  },
  {
   "cell_type": "markdown",
   "id": "eeed56c2",
   "metadata": {},
   "source": [
    "### remove test"
   ]
  },
  {
   "cell_type": "code",
   "execution_count": 75,
   "id": "cd55e50e",
   "metadata": {},
   "outputs": [
    {
     "name": "stdout",
     "output_type": "stream",
     "text": [
      "head-> (1)->(30)->(8)->(1)->(99)->(1)->(256)->null\n",
      "1번째 원소(1) 삭제\n",
      "4번째 원소(1) 삭제\n",
      "6번째 원소(1) 삭제\n",
      "head-> (1)->(30)->(8)->(1)->(99)->(1)->(256)->null\n",
      "numofdata: 4\n",
      "해당하는 원소가 없습니다.\n",
      "head-> (1)->(7)->(6)->(4)->(1)->(8)->(1)->(10)->null\n",
      "1번째 원소(1) 삭제\n",
      "5번째 원소(1) 삭제\n",
      "7번째 원소(1) 삭제\n",
      "head-> (1)->(7)->(6)->(4)->(1)->(8)->(1)->(10)->null\n",
      "numofdata: 5\n"
     ]
    }
   ],
   "source": [
    "A.traverse_all()\n",
    "A.remove(1)\n",
    "A.traverse_all()\n",
    "print(\"numofdata:\",A.num_of_data)\n",
    "A.remove(218)\n",
    "\n",
    "B=LinkedList()\n",
    "B.append(1)\n",
    "B.append(7)\n",
    "B.append(6)\n",
    "B.append(4)\n",
    "B.append(1)\n",
    "B.append(8)\n",
    "B.append(1)\n",
    "B.append(10)\n",
    "B.traverse_all()\n",
    "B.remove(1)\n",
    "B.traverse_all()\n",
    "print(\"numofdata:\",B.num_of_data)"
   ]
  },
  {
   "cell_type": "code",
   "execution_count": null,
   "id": "f8500c61",
   "metadata": {},
   "outputs": [],
   "source": []
  },
  {
   "cell_type": "code",
   "execution_count": null,
   "id": "c9aec7ac",
   "metadata": {},
   "outputs": [],
   "source": []
  }
 ],
 "metadata": {
  "kernelspec": {
   "display_name": "Python 3 (ipykernel)",
   "language": "python",
   "name": "python3"
  },
  "language_info": {
   "codemirror_mode": {
    "name": "ipython",
    "version": 3
   },
   "file_extension": ".py",
   "mimetype": "text/x-python",
   "name": "python",
   "nbconvert_exporter": "python",
   "pygments_lexer": "ipython3",
   "version": "3.10.9"
  }
 },
 "nbformat": 4,
 "nbformat_minor": 5
}
